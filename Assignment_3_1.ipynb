{
  "nbformat": 4,
  "nbformat_minor": 0,
  "metadata": {
    "colab": {
      "provenance": []
    },
    "kernelspec": {
      "name": "python3",
      "display_name": "Python 3"
    },
    "language_info": {
      "name": "python"
    }
  },
  "cells": [
    {
      "cell_type": "markdown",
      "source": [],
      "metadata": {
        "id": "R1_F_R82VzTi"
      }
    },
    {
      "cell_type": "markdown",
      "source": [
        "Question 1\n"
      ],
      "metadata": {
        "id": "UNR1-xBUV1fF"
      }
    },
    {
      "cell_type": "code",
      "source": [
        "def saurabh():\n",
        "  pass\n",
        "l=[i for i in range(1,26)]\n",
        "def odd(l):\n",
        "  l2=[]\n",
        "  for i in range(0,len(l)):\n",
        "    if (l[i]%2)!=0:\n",
        "      l2.append(l[i])\n",
        "  return l2\n",
        "l1=odd(l)\n",
        "print(l1)"
      ],
      "metadata": {
        "colab": {
          "base_uri": "https://localhost:8080/"
        },
        "id": "o1I4f22gV4BD",
        "outputId": "0fdda474-4750-41a7-d99a-ae1eb4a9d2ad"
      },
      "execution_count": 15,
      "outputs": [
        {
          "output_type": "stream",
          "name": "stdout",
          "text": [
            "[1, 3, 5, 7, 9, 11, 13, 15, 17, 19, 21, 23, 25]\n"
          ]
        }
      ]
    },
    {
      "cell_type": "markdown",
      "source": [
        "Question 2"
      ],
      "metadata": {
        "id": "04-XyPcrYsBG"
      }
    },
    {
      "cell_type": "code",
      "source": [
        "def q2(*saurabh):\n",
        "  return saurabh#take as many as argument\n",
        "q2(2,4,6)\n",
        "q2(4,6)\n",
        "def q21(**args):\n",
        "  return args\n",
        "q21(a=[3,5,6])\n"
      ],
      "metadata": {
        "colab": {
          "base_uri": "https://localhost:8080/"
        },
        "id": "xNqczqN2Yusu",
        "outputId": "53dbc727-1f31-466e-9974-4ffb4d484713"
      },
      "execution_count": 17,
      "outputs": [
        {
          "output_type": "execute_result",
          "data": {
            "text/plain": [
              "{'a': [3, 5, 6]}"
            ]
          },
          "metadata": {},
          "execution_count": 17
        }
      ]
    },
    {
      "cell_type": "markdown",
      "source": [
        "Question 3"
      ],
      "metadata": {
        "id": "zbQhV9jtaIlS"
      }
    },
    {
      "cell_type": "code",
      "source": [
        "#In Python, two methods, __iter__() and __next__()\n",
        "iter_obj = iter([2, 4, 6, 8, 10, 12, 14, 16, 18, 20])\n",
        "for i in range(5):\n",
        "    print(next(iter_obj))"
      ],
      "metadata": {
        "colab": {
          "base_uri": "https://localhost:8080/"
        },
        "id": "qloYnoHJaLid",
        "outputId": "84589e88-88e1-4bee-93f1-7618b0711844"
      },
      "execution_count": 21,
      "outputs": [
        {
          "output_type": "stream",
          "name": "stdout",
          "text": [
            "2\n",
            "4\n",
            "6\n",
            "8\n",
            "10\n"
          ]
        }
      ]
    },
    {
      "cell_type": "markdown",
      "source": [
        "Question 4\n",
        "A generator function in Python is a special type of function that allows you to generate a sequence of values on-the-fly, rather than producing them all at once and storing them in memory. Generator functions use the yield keyword to return values one at a time, suspending their state between each yield. This allows for efficient memory usage and lazy evaluatio\n"
      ],
      "metadata": {
        "id": "SJ53l5_jbXhw"
      }
    },
    {
      "cell_type": "code",
      "source": [
        "def fibonacci_generator():\n",
        "    a, b = 0, 1\n",
        "    while True:\n",
        "        yield a\n",
        "        a, b = b, a + b\n",
        "fib_gen = fibonacci_generator()\n",
        "for _ in range(10):\n",
        "    print(next(fib_gen))"
      ],
      "metadata": {
        "colab": {
          "base_uri": "https://localhost:8080/"
        },
        "id": "ynwkBzGLbc8Y",
        "outputId": "d921c79e-2de5-4828-9f9c-5da595de9693"
      },
      "execution_count": 22,
      "outputs": [
        {
          "output_type": "stream",
          "name": "stdout",
          "text": [
            "0\n",
            "1\n",
            "1\n",
            "2\n",
            "3\n",
            "5\n",
            "8\n",
            "13\n",
            "21\n",
            "34\n"
          ]
        }
      ]
    },
    {
      "cell_type": "markdown",
      "source": [
        "Question 5"
      ],
      "metadata": {
        "id": "g5DXCt17drM8"
      }
    },
    {
      "cell_type": "code",
      "source": [
        "def prime_generator():\n",
        "    def is_prime(num):\n",
        "        if num < 2:\n",
        "            return False\n",
        "        for i in range(2, int(num ** 0.5) + 1):\n",
        "            if num % i == 0:\n",
        "                return False\n",
        "        return True\n",
        "\n",
        "    num = 2\n",
        "    while num < 1000:\n",
        "        if is_prime(num):\n",
        "            yield num\n",
        "        num += 1\n",
        "\n",
        "prime_gen = prime_generator()\n",
        "for _ in range(20):\n",
        "    print(next(prime_gen))\n"
      ],
      "metadata": {
        "colab": {
          "base_uri": "https://localhost:8080/"
        },
        "id": "x2C_Iz8Hdyvh",
        "outputId": "2bd6cbb5-a626-4473-9477-4bb5c08382d0"
      },
      "execution_count": 23,
      "outputs": [
        {
          "output_type": "stream",
          "name": "stdout",
          "text": [
            "2\n",
            "3\n",
            "5\n",
            "7\n",
            "11\n",
            "13\n",
            "17\n",
            "19\n",
            "23\n",
            "29\n",
            "31\n",
            "37\n",
            "41\n",
            "43\n",
            "47\n",
            "53\n",
            "59\n",
            "61\n",
            "67\n",
            "71\n"
          ]
        }
      ]
    },
    {
      "cell_type": "markdown",
      "source": [
        "Question6"
      ],
      "metadata": {
        "id": "e04_usIUeWiX"
      }
    },
    {
      "cell_type": "code",
      "source": [
        "def fibonacci(n):\n",
        "    fib_numbers = [0, 1]\n",
        "    while len(fib_numbers) < n:\n",
        "        fib_numbers.append(fib_numbers[-1] + fib_numbers[-2])\n",
        "    return fib_numbers\n",
        "for number in fibonacci(10):\n",
        "    print(number)"
      ],
      "metadata": {
        "colab": {
          "base_uri": "https://localhost:8080/"
        },
        "id": "GM_ZuyMkeaFG",
        "outputId": "280c3eb8-30fa-4ae6-8d2e-c4df6add8f44"
      },
      "execution_count": 24,
      "outputs": [
        {
          "output_type": "stream",
          "name": "stdout",
          "text": [
            "0\n",
            "1\n",
            "1\n",
            "2\n",
            "3\n",
            "5\n",
            "8\n",
            "13\n",
            "21\n",
            "34\n"
          ]
        }
      ]
    },
    {
      "cell_type": "markdown",
      "source": [],
      "metadata": {
        "id": "_WwA4itTeiJb"
      }
    },
    {
      "cell_type": "markdown",
      "source": [
        "Question 7"
      ],
      "metadata": {
        "id": "X39b5kW7ekHI"
      }
    },
    {
      "cell_type": "code",
      "source": [
        "string = 'pwskills'\n",
        "result = [char for char in string]\n",
        "print(result)"
      ],
      "metadata": {
        "colab": {
          "base_uri": "https://localhost:8080/"
        },
        "id": "9p5UbQBfepK-",
        "outputId": "c1af9ce1-e92a-435a-eb98-c0e9b3731b5d"
      },
      "execution_count": 25,
      "outputs": [
        {
          "output_type": "stream",
          "name": "stdout",
          "text": [
            "['p', 'w', 's', 'k', 'i', 'l', 'l', 's']\n"
          ]
        }
      ]
    },
    {
      "cell_type": "markdown",
      "source": [
        "Question 8"
      ],
      "metadata": {
        "id": "NDnjzcv2e-vO"
      }
    },
    {
      "cell_type": "code",
      "source": [
        "def is_palindrome(num):\n",
        "    original_num = num\n",
        "    reversed_num = 0\n",
        "\n",
        "    while num > 0:\n",
        "        digit = num % 10\n",
        "        reversed_num = reversed_num * 10 + digit\n",
        "        num //= 10\n",
        "    return original_num == reversed_num\n",
        "number = int(input(\"Enter a number: \"))\n",
        "\n",
        "if is_palindrome(number):\n",
        "    print(f\"{number} is a palindrome.\")\n",
        "else:\n",
        "    print(f\"{number} is not a palindrome.\")\n"
      ],
      "metadata": {
        "id": "1xbA36otfBb_"
      },
      "execution_count": null,
      "outputs": []
    },
    {
      "cell_type": "markdown",
      "source": [
        "Question 9"
      ],
      "metadata": {
        "id": "7ZllOha1fVK3"
      }
    },
    {
      "cell_type": "code",
      "source": [
        "\n",
        "def is_odd(num):\n",
        "    return num % 2 != 0\n",
        "odd_numbers = list(filter(is_odd, range(1, 101)))\n",
        "print(odd_numbers)\n"
      ],
      "metadata": {
        "colab": {
          "base_uri": "https://localhost:8080/"
        },
        "id": "Hd78TKO-fZwK",
        "outputId": "a38ba6a5-3ca5-414e-fafa-dcf283bcf6f6"
      },
      "execution_count": 26,
      "outputs": [
        {
          "output_type": "stream",
          "name": "stdout",
          "text": [
            "[1, 3, 5, 7, 9, 11, 13, 15, 17, 19, 21, 23, 25, 27, 29, 31, 33, 35, 37, 39, 41, 43, 45, 47, 49, 51, 53, 55, 57, 59, 61, 63, 65, 67, 69, 71, 73, 75, 77, 79, 81, 83, 85, 87, 89, 91, 93, 95, 97, 99]\n"
          ]
        }
      ]
    }
  ]
}